{
 "cells": [
  {
   "cell_type": "markdown",
   "metadata": {},
   "source": [
    "# CFPB Customer Complait Issue"
   ]
  },
  {
   "cell_type": "markdown",
   "metadata": {},
   "source": [
    "## Feature Engineering"
   ]
  },
  {
   "cell_type": "markdown",
   "metadata": {},
   "source": [
    "### 1. Import Packages"
   ]
  },
  {
   "cell_type": "code",
   "execution_count": 34,
   "metadata": {
    "collapsed": true
   },
   "outputs": [],
   "source": [
    "# Ignore warnings\n",
    "import warnings\n",
    "warnings.filterwarnings('ignore')\n",
    "\n",
    "# Basic operations\n",
    "import numpy as np\n",
    "import pandas as pd\n",
    "\n",
    "# Visualizations\n",
    "import matplotlib.pyplot as plt\n",
    "plt.style.use('ggplot')\n",
    "import seaborn as sns\n",
    "\n",
    "#\n",
    "from datetime import *\n",
    "import math\n"
   ]
  },
  {
   "cell_type": "markdown",
   "metadata": {},
   "source": [
    "### 2. Load data"
   ]
  },
  {
   "cell_type": "code",
   "execution_count": 2,
   "metadata": {
    "collapsed": false
   },
   "outputs": [
    {
     "data": {
      "text/plain": [
       "(860606, 12)"
      ]
     },
     "execution_count": 2,
     "metadata": {},
     "output_type": "execute_result"
    }
   ],
   "source": [
    "data = pd.read_csv('./cleaned_1.csv')\n",
    "data.shape"
   ]
  },
  {
   "cell_type": "code",
   "execution_count": 8,
   "metadata": {
    "collapsed": false
   },
   "outputs": [
    {
     "data": {
      "text/html": [
       "<div>\n",
       "<table border=\"1\" class=\"dataframe\">\n",
       "  <thead>\n",
       "    <tr style=\"text-align: right;\">\n",
       "      <th></th>\n",
       "      <th>Date_received</th>\n",
       "      <th>Product</th>\n",
       "      <th>Issue</th>\n",
       "      <th>Company</th>\n",
       "      <th>State</th>\n",
       "      <th>ZIP_code</th>\n",
       "      <th>Submitted_via</th>\n",
       "      <th>Date_sent_to_company</th>\n",
       "      <th>Company_response_to_consumer</th>\n",
       "      <th>Is_Timely_response</th>\n",
       "      <th>Is_Consumer_disputed</th>\n",
       "      <th>Complaint_ID</th>\n",
       "      <th>days_spend</th>\n",
       "      <th>year</th>\n",
       "      <th>month</th>\n",
       "      <th>mean_rate_by_time</th>\n",
       "      <th>mean_rate_over_avg_by_time</th>\n",
       "    </tr>\n",
       "  </thead>\n",
       "  <tbody>\n",
       "    <tr>\n",
       "      <th>0</th>\n",
       "      <td>2014-03-12</td>\n",
       "      <td>Mortgage</td>\n",
       "      <td>Loan modification,collection,foreclosure</td>\n",
       "      <td>M&amp;T BANK CORPORATION</td>\n",
       "      <td>MI</td>\n",
       "      <td>48382</td>\n",
       "      <td>Referral</td>\n",
       "      <td>2014-03-17</td>\n",
       "      <td>Closed with explanation</td>\n",
       "      <td>1</td>\n",
       "      <td>No</td>\n",
       "      <td>759217</td>\n",
       "      <td>5.0</td>\n",
       "      <td>2014</td>\n",
       "      <td>3</td>\n",
       "      <td>0.984378</td>\n",
       "      <td>0.011944</td>\n",
       "    </tr>\n",
       "    <tr>\n",
       "      <th>1</th>\n",
       "      <td>2014-03-04</td>\n",
       "      <td>Mortgage</td>\n",
       "      <td>Loan servicing, payments, escrow account</td>\n",
       "      <td>OCWEN LOAN SERVICING LLC</td>\n",
       "      <td>NJ</td>\n",
       "      <td>07724</td>\n",
       "      <td>Web</td>\n",
       "      <td>2014-03-04</td>\n",
       "      <td>Closed with explanation</td>\n",
       "      <td>1</td>\n",
       "      <td>No</td>\n",
       "      <td>743072</td>\n",
       "      <td>0.0</td>\n",
       "      <td>2014</td>\n",
       "      <td>3</td>\n",
       "      <td>0.984378</td>\n",
       "      <td>0.011944</td>\n",
       "    </tr>\n",
       "    <tr>\n",
       "      <th>2</th>\n",
       "      <td>2014-03-03</td>\n",
       "      <td>Debt collection</td>\n",
       "      <td>Cont'd attempts collect debt not owed</td>\n",
       "      <td>International Computer Systems, Inc.</td>\n",
       "      <td>OH</td>\n",
       "      <td>44035</td>\n",
       "      <td>Web</td>\n",
       "      <td>2014-03-03</td>\n",
       "      <td>Closed with explanation</td>\n",
       "      <td>1</td>\n",
       "      <td>No</td>\n",
       "      <td>739560</td>\n",
       "      <td>0.0</td>\n",
       "      <td>2014</td>\n",
       "      <td>3</td>\n",
       "      <td>0.984378</td>\n",
       "      <td>0.011944</td>\n",
       "    </tr>\n",
       "  </tbody>\n",
       "</table>\n",
       "</div>"
      ],
      "text/plain": [
       "  Date_received          Product                                     Issue  \\\n",
       "0    2014-03-12         Mortgage  Loan modification,collection,foreclosure   \n",
       "1    2014-03-04         Mortgage  Loan servicing, payments, escrow account   \n",
       "2    2014-03-03  Debt collection     Cont'd attempts collect debt not owed   \n",
       "\n",
       "                                Company State ZIP_code Submitted_via  \\\n",
       "0                  M&T BANK CORPORATION    MI    48382      Referral   \n",
       "1              OCWEN LOAN SERVICING LLC    NJ    07724           Web   \n",
       "2  International Computer Systems, Inc.    OH    44035           Web   \n",
       "\n",
       "  Date_sent_to_company Company_response_to_consumer  Is_Timely_response  \\\n",
       "0           2014-03-17      Closed with explanation                   1   \n",
       "1           2014-03-04      Closed with explanation                   1   \n",
       "2           2014-03-03      Closed with explanation                   1   \n",
       "\n",
       "  Is_Consumer_disputed  Complaint_ID  days_spend  year  month  \\\n",
       "0                   No        759217         5.0  2014      3   \n",
       "1                   No        743072         0.0  2014      3   \n",
       "2                   No        739560         0.0  2014      3   \n",
       "\n",
       "   mean_rate_by_time  mean_rate_over_avg_by_time  \n",
       "0           0.984378                    0.011944  \n",
       "1           0.984378                    0.011944  \n",
       "2           0.984378                    0.011944  "
      ]
     },
     "execution_count": 8,
     "metadata": {},
     "output_type": "execute_result"
    }
   ],
   "source": [
    "data.head(3)"
   ]
  },
  {
   "cell_type": "markdown",
   "metadata": {},
   "source": [
    "### 3. Feature Engineering"
   ]
  },
  {
   "cell_type": "code",
   "execution_count": 4,
   "metadata": {
    "collapsed": true
   },
   "outputs": [],
   "source": [
    "def mean_rate_by_cat(data, cat):\n",
    "    cat = str(cat)\n",
    "    \n",
    "    # Calculate mean response rate of each cat\n",
    "    mean_rate_by_cat = data.groupby('%s'%cat).mean()\n",
    "    \n",
    "    # reset index\n",
    "    mean_rate_by_cat['%s'%cat] = mean_rate_by_cat.index\n",
    "    mean_rate_by_cat.columns = ['mean_response_rate_by_%s'%cat, '%s'%cat]\n",
    "    mean_rate_by_cat = mean_rate_by_cat.reset_index(drop=True)\n",
    "    \n",
    "    # Calculate mean response rate of each cat\n",
    "    mean_rate_by_cat['mean_response_rate_over_avg_by_%s'%cat] = mean_rate_by_cat['mean_response_rate_by_%s'%cat] / 0.972434 - 1\n",
    "\n",
    "    return mean_rate_by_cat"
   ]
  },
  {
   "cell_type": "code",
   "execution_count": 5,
   "metadata": {
    "collapsed": true
   },
   "outputs": [],
   "source": [
    "def freq_by_cat(data, cat):\n",
    "    cat = str(cat)\n",
    "    # Calculate the frequency of each cat\n",
    "    freq = data.groupby('%s'%cat).count()/860606\n",
    "    # reset index\n",
    "    freq['%s'%cat] = freq.index\n",
    "    freq.columns = ['freq_by_%s'%cat, '%s'%cat]\n",
    "    freq = freq.reset_index(drop=True)\n",
    "    \n",
    "    return freq"
   ]
  },
  {
   "cell_type": "markdown",
   "metadata": {},
   "source": [
    "** Time **"
   ]
  },
  {
   "cell_type": "code",
   "execution_count": 9,
   "metadata": {
    "collapsed": false
   },
   "outputs": [],
   "source": [
    "# Time \n",
    "data.Date_received = pd.to_datetime(data.Date_received)\n",
    "data.Date_sent_to_company = pd.to_datetime(data.Date_sent_to_company)\n",
    "\n",
    "# Using np array in order to calcalate quicker\n",
    "rece = np.array(data.Date_received)\n",
    "sent = np.array(data.Date_sent_to_company)\n",
    "days = (sent - rece).astype('timedelta64[D]') / np.timedelta64(1, 'D')\n",
    "\n",
    "# New feature: days_spend\n",
    "data['days_spend'] = days\n",
    "\n",
    "# New features: year and month\n",
    "data['year'] = data.Date_received.dt.year\n",
    "data['month'] = data.Date_received.dt.month"
   ]
  },
  {
   "cell_type": "code",
   "execution_count": 7,
   "metadata": {
    "collapsed": false
   },
   "outputs": [],
   "source": [
    "time = data[['year','month','Is_Timely_response']]\n",
    "\n",
    "# Calculate mean response rate by month and year\n",
    "mean_rate_by_time = time.groupby(['year','month']).mean()\n",
    "mean_rate_by_time.columns = ['mean_rate_by_time']\n",
    "\n",
    "# reset index\n",
    "mean_rate_by_time = mean_rate_by_time.reset_index(level=['year', 'month'])\n",
    "mean_rate_by_time['mean_rate_over_avg_by_time'] = mean_rate_by_time.mean_rate_by_time - 0.972434\n",
    "\n",
    "# Two new features: mean_rate_over_avg_by_time, mean_rate_by_time\n",
    "data = pd.merge(data, mean_rate_by_time, on=['year','month'])"
   ]
  },
  {
   "cell_type": "markdown",
   "metadata": {},
   "source": [
    "** Company **"
   ]
  },
  {
   "cell_type": "code",
   "execution_count": 10,
   "metadata": {
    "collapsed": false
   },
   "outputs": [],
   "source": [
    "# Extract Company \n",
    "company = data[['Company', 'Is_Timely_response']]\n",
    "company = company.groupby('Company').count()\n",
    "company = company.sort('Is_Timely_response', ascending=False)\n",
    "company.columns = ['complaint_count']\n",
    "\n",
    "# Scale Company based on number of complaints\n",
    "scale1 = company[company.complaint_count<=10].index\n",
    "scale10 = company[(company.complaint_count<=100) & (company.complaint_count>10)].index\n",
    "scale100 = company[(company.complaint_count<=1000) & (company.complaint_count>100)].index\n",
    "scale1000 = company[(company.complaint_count<=10000) & (company.complaint_count>1000)].index\n",
    "scale10000 = company[company.complaint_count>10000].index\n",
    "\n",
    "# Encode number of complaints\n",
    "s1 = pd.DataFrame(index=scale1,data=np.ones(len(scale1)))\n",
    "s10 = pd.DataFrame(index=scale10,data=2*np.ones(len(scale10)))\n",
    "s100 = pd.DataFrame(index=scale100,data=3*np.ones(len(scale100)))\n",
    "s1000 = pd.DataFrame(index=scale1000,data=4*np.ones(len(scale1000)))\n",
    "s10000 = pd.DataFrame(index=scale10000,data=5*np.ones(len(scale10000)))\n",
    "\n",
    "# Create complaint_scale data frame \n",
    "scale = pd.concat([s1,s10,s100,s1000,s10000])\n",
    "scale.columns = ['complaint_scale']\n",
    "scale['Company'] = scale.index\n",
    "\n",
    "# New feature: complaint_scale\n",
    "data = pd.merge(data, scale, on='Company')"
   ]
  },
  {
   "cell_type": "code",
   "execution_count": 11,
   "metadata": {
    "collapsed": false
   },
   "outputs": [],
   "source": [
    "company = data[['Company', 'Is_Timely_response']]\n",
    "\n",
    "mean_rate_by_company = mean_rate_by_cat(company, 'Company')\n",
    "freq_by_company = freq_by_cat(company, 'Company')\n",
    "\n",
    "# Two new features: mean_response_rate_by_company, mean_rate_over_avg_by_company\n",
    "data = pd.merge(data, mean_rate_by_company, on='Company')\n",
    "# One new feature: freq_by_company\n",
    "data = pd.merge(data, freq_by_company, on='Company')"
   ]
  },
  {
   "cell_type": "code",
   "execution_count": null,
   "metadata": {
    "collapsed": true
   },
   "outputs": [],
   "source": []
  },
  {
   "cell_type": "markdown",
   "metadata": {},
   "source": [
    "** Is_Consumer_disputed **"
   ]
  },
  {
   "cell_type": "code",
   "execution_count": 12,
   "metadata": {
    "collapsed": false
   },
   "outputs": [],
   "source": [
    "data.Is_Consumer_disputed[data.Is_Consumer_disputed == 'Yes'] = 1\n",
    "data.Is_Consumer_disputed[data.Is_Consumer_disputed == 'No'] = 0\n",
    "data.Is_Consumer_disputed[data.Is_Consumer_disputed == 'NotKnow'] = -1"
   ]
  },
  {
   "cell_type": "code",
   "execution_count": 13,
   "metadata": {
    "collapsed": false
   },
   "outputs": [],
   "source": [
    "Is_Consumer_disputed = data[['Is_Consumer_disputed', 'Is_Timely_response']]\n",
    "\n",
    "mean_rate_by_disput = mean_rate_by_cat(Is_Consumer_disputed, 'Is_Consumer_disputed')\n",
    "freq_by_disput = freq_by_cat(Is_Consumer_disputed, 'Is_Consumer_disputed')\n",
    "\n",
    "# Two new features: mean_response_rate_by_issue, mean_rate_over_avg_by_issue\n",
    "data = pd.merge(data, mean_rate_by_disput, on='Is_Consumer_disputed')\n",
    "# One new feature: freq_by_issue\n",
    "data = pd.merge(data, freq_by_disput, on='Is_Consumer_disputed')"
   ]
  },
  {
   "cell_type": "markdown",
   "metadata": {},
   "source": [
    "** Issue **"
   ]
  },
  {
   "cell_type": "code",
   "execution_count": 14,
   "metadata": {
    "collapsed": true
   },
   "outputs": [],
   "source": [
    "issue = data[['Issue', 'Is_Timely_response']]"
   ]
  },
  {
   "cell_type": "code",
   "execution_count": 15,
   "metadata": {
    "collapsed": false
   },
   "outputs": [],
   "source": [
    "mean_rate_by_issue = mean_rate_by_cat(issue, 'Issue')\n",
    "freq_by_issue = freq_by_cat(issue, 'Issue')\n",
    "\n",
    "# Two new features: mean_response_rate_by_issue, mean_rate_over_avg_by_issue\n",
    "data = pd.merge(data, mean_rate_by_issue, on='Issue')\n",
    "# One new feature: freq_by_issue\n",
    "data = pd.merge(data, freq_by_issue, on='Issue')"
   ]
  },
  {
   "cell_type": "code",
   "execution_count": 16,
   "metadata": {
    "collapsed": false
   },
   "outputs": [
    {
     "data": {
      "text/plain": [
       "\"\\nissue.str.contains(\\n    'Loan|loan|Debt|debt|credit|Credit|Lender|lender|broker'\\n).sum()\\n\\nissue.str.contains(\\n    'Problem|problem|report|Report|info|Information|information|advertising|Advertising|Other'\\n).sum()\\n\\nissue.str.contains(\\n    'Account|account|Lost|stolen|missing|statements|Billing|cash|withdrawals|card|Property|property|Deposite|Communication|Overdraft|overdraft|vehicle|Vehicle'\\n).sum()\\n\\n\""
      ]
     },
     "execution_count": 16,
     "metadata": {},
     "output_type": "execute_result"
    }
   ],
   "source": [
    "'''\n",
    "issue.str.contains(\n",
    "    'Loan|loan|Debt|debt|credit|Credit|Lender|lender|broker'\n",
    ").sum()\n",
    "\n",
    "issue.str.contains(\n",
    "    'Problem|problem|report|Report|info|Information|information|advertising|Advertising|Other'\n",
    ").sum()\n",
    "\n",
    "issue.str.contains(\n",
    "    'Account|account|Lost|stolen|missing|statements|Billing|cash|withdrawals|card|Property|property|Deposite|Communication|Overdraft|overdraft|vehicle|Vehicle'\n",
    ").sum()\n",
    "\n",
    "'''"
   ]
  },
  {
   "cell_type": "code",
   "execution_count": null,
   "metadata": {
    "collapsed": true
   },
   "outputs": [],
   "source": []
  },
  {
   "cell_type": "markdown",
   "metadata": {},
   "source": [
    "** Product **"
   ]
  },
  {
   "cell_type": "code",
   "execution_count": 17,
   "metadata": {
    "collapsed": true
   },
   "outputs": [],
   "source": [
    "product = data[['Product', 'Is_Timely_response']]"
   ]
  },
  {
   "cell_type": "code",
   "execution_count": 18,
   "metadata": {
    "collapsed": true
   },
   "outputs": [],
   "source": [
    "mean_rate_by_product = mean_rate_by_cat(product, 'Product')\n",
    "freq_by_product = freq_by_cat(product, 'Product')\n",
    "\n",
    "# Two new features: mean_response_rate_by_product, mean_rate_over_avg_by_product\n",
    "data = pd.merge(data, mean_rate_by_product, on='Product')\n",
    "# One new feature: freq_by_product\n",
    "data = pd.merge(data, freq_by_product, on='Product')"
   ]
  },
  {
   "cell_type": "code",
   "execution_count": null,
   "metadata": {
    "collapsed": true
   },
   "outputs": [],
   "source": []
  },
  {
   "cell_type": "markdown",
   "metadata": {},
   "source": [
    "** State **"
   ]
  },
  {
   "cell_type": "code",
   "execution_count": 19,
   "metadata": {
    "collapsed": true
   },
   "outputs": [],
   "source": [
    "State = data[['State', 'Is_Timely_response']]"
   ]
  },
  {
   "cell_type": "code",
   "execution_count": 20,
   "metadata": {
    "collapsed": true
   },
   "outputs": [],
   "source": [
    "mean_rate_by_State = mean_rate_by_cat(State, 'State')\n",
    "freq_by_State = freq_by_cat(State, 'State')\n",
    "\n",
    "# Two new features: mean_response_rate_by_product, mean_rate_over_avg_by_product\n",
    "data = pd.merge(data, mean_rate_by_State, on='State')\n",
    "# One new feature: freq_by_product\n",
    "data = pd.merge(data, freq_by_State, on='State')"
   ]
  },
  {
   "cell_type": "code",
   "execution_count": null,
   "metadata": {
    "collapsed": true
   },
   "outputs": [],
   "source": []
  },
  {
   "cell_type": "markdown",
   "metadata": {},
   "source": [
    "** ZIP_Code **"
   ]
  },
  {
   "cell_type": "code",
   "execution_count": 21,
   "metadata": {
    "collapsed": false
   },
   "outputs": [],
   "source": [
    "ZIP_code = data[['ZIP_code', 'Is_Timely_response']]"
   ]
  },
  {
   "cell_type": "code",
   "execution_count": 22,
   "metadata": {
    "collapsed": true
   },
   "outputs": [],
   "source": [
    "mean_rate_by_ZIP_code = mean_rate_by_cat(ZIP_code, 'ZIP_code')\n",
    "freq_by_ZIP_code = freq_by_cat(ZIP_code, 'ZIP_code')\n",
    "\n",
    "# Two new features: mean_response_rate_by_product, mean_rate_over_avg_by_product\n",
    "data = pd.merge(data, mean_rate_by_ZIP_code, on='ZIP_code')\n",
    "# One new feature: freq_by_product\n",
    "data = pd.merge(data, freq_by_ZIP_code, on='ZIP_code')"
   ]
  },
  {
   "cell_type": "code",
   "execution_count": null,
   "metadata": {
    "collapsed": true
   },
   "outputs": [],
   "source": []
  },
  {
   "cell_type": "markdown",
   "metadata": {},
   "source": [
    "** One-hot encoding **"
   ]
  },
  {
   "cell_type": "code",
   "execution_count": 1,
   "metadata": {
    "collapsed": false
   },
   "outputs": [
    {
     "ename": "NameError",
     "evalue": "name 'data' is not defined",
     "output_type": "error",
     "traceback": [
      "\u001b[0;31m---------------------------------------------------------------------------\u001b[0m",
      "\u001b[0;31mNameError\u001b[0m                                 Traceback (most recent call last)",
      "\u001b[0;32m<ipython-input-1-7bff57ad0d22>\u001b[0m in \u001b[0;36m<module>\u001b[0;34m()\u001b[0m\n\u001b[0;32m----> 1\u001b[0;31m \u001b[0mdata1\u001b[0m\u001b[0;34m=\u001b[0m\u001b[0mdata\u001b[0m\u001b[0;34m.\u001b[0m\u001b[0mcopy\u001b[0m\u001b[0;34m(\u001b[0m\u001b[0;34m)\u001b[0m\u001b[0;34m\u001b[0m\u001b[0m\n\u001b[0m",
      "\u001b[0;31mNameError\u001b[0m: name 'data' is not defined"
     ]
    }
   ],
   "source": [
    "data1=data.copy()"
   ]
  },
  {
   "cell_type": "code",
   "execution_count": 25,
   "metadata": {
    "collapsed": false
   },
   "outputs": [
    {
     "data": {
      "text/html": [
       "<div>\n",
       "<table border=\"1\" class=\"dataframe\">\n",
       "  <thead>\n",
       "    <tr style=\"text-align: right;\">\n",
       "      <th></th>\n",
       "      <th>Date_received</th>\n",
       "      <th>Product</th>\n",
       "      <th>Issue</th>\n",
       "      <th>Company</th>\n",
       "      <th>State</th>\n",
       "      <th>ZIP_code</th>\n",
       "      <th>Submitted_via</th>\n",
       "      <th>Date_sent_to_company</th>\n",
       "      <th>Company_response_to_consumer</th>\n",
       "      <th>Is_Timely_response</th>\n",
       "      <th>...</th>\n",
       "      <th>freq_by_Issue</th>\n",
       "      <th>mean_response_rate_by_Product</th>\n",
       "      <th>mean_response_rate_over_avg_by_Product</th>\n",
       "      <th>freq_by_Product</th>\n",
       "      <th>mean_response_rate_by_State</th>\n",
       "      <th>mean_response_rate_over_avg_by_State</th>\n",
       "      <th>freq_by_State</th>\n",
       "      <th>mean_response_rate_by_ZIP_code</th>\n",
       "      <th>mean_response_rate_over_avg_by_ZIP_code</th>\n",
       "      <th>freq_by_ZIP_code</th>\n",
       "    </tr>\n",
       "  </thead>\n",
       "  <tbody>\n",
       "    <tr>\n",
       "      <th>0</th>\n",
       "      <td>2014-03-12</td>\n",
       "      <td>Mortgage</td>\n",
       "      <td>Loan modification,collection,foreclosure</td>\n",
       "      <td>M&amp;T BANK CORPORATION</td>\n",
       "      <td>MI</td>\n",
       "      <td>48382</td>\n",
       "      <td>Referral</td>\n",
       "      <td>2014-03-17</td>\n",
       "      <td>Closed with explanation</td>\n",
       "      <td>1</td>\n",
       "      <td>...</td>\n",
       "      <td>0.129546</td>\n",
       "      <td>0.97933</td>\n",
       "      <td>0.007092</td>\n",
       "      <td>0.274616</td>\n",
       "      <td>0.976779</td>\n",
       "      <td>0.004468</td>\n",
       "      <td>0.02487</td>\n",
       "      <td>0.983923</td>\n",
       "      <td>0.011815</td>\n",
       "      <td>0.001084</td>\n",
       "    </tr>\n",
       "    <tr>\n",
       "      <th>1</th>\n",
       "      <td>2014-06-13</td>\n",
       "      <td>Mortgage</td>\n",
       "      <td>Loan modification,collection,foreclosure</td>\n",
       "      <td>M&amp;T BANK CORPORATION</td>\n",
       "      <td>MI</td>\n",
       "      <td>48382</td>\n",
       "      <td>Fax</td>\n",
       "      <td>2014-06-17</td>\n",
       "      <td>Closed with explanation</td>\n",
       "      <td>1</td>\n",
       "      <td>...</td>\n",
       "      <td>0.129546</td>\n",
       "      <td>0.97933</td>\n",
       "      <td>0.007092</td>\n",
       "      <td>0.274616</td>\n",
       "      <td>0.976779</td>\n",
       "      <td>0.004468</td>\n",
       "      <td>0.02487</td>\n",
       "      <td>0.983923</td>\n",
       "      <td>0.011815</td>\n",
       "      <td>0.001084</td>\n",
       "    </tr>\n",
       "  </tbody>\n",
       "</table>\n",
       "<p>2 rows × 36 columns</p>\n",
       "</div>"
      ],
      "text/plain": [
       "  Date_received   Product                                     Issue  \\\n",
       "0    2014-03-12  Mortgage  Loan modification,collection,foreclosure   \n",
       "1    2014-06-13  Mortgage  Loan modification,collection,foreclosure   \n",
       "\n",
       "                Company State ZIP_code Submitted_via Date_sent_to_company  \\\n",
       "0  M&T BANK CORPORATION    MI    48382      Referral           2014-03-17   \n",
       "1  M&T BANK CORPORATION    MI    48382           Fax           2014-06-17   \n",
       "\n",
       "  Company_response_to_consumer  Is_Timely_response        ...         \\\n",
       "0      Closed with explanation                   1        ...          \n",
       "1      Closed with explanation                   1        ...          \n",
       "\n",
       "  freq_by_Issue  mean_response_rate_by_Product  \\\n",
       "0      0.129546                        0.97933   \n",
       "1      0.129546                        0.97933   \n",
       "\n",
       "   mean_response_rate_over_avg_by_Product  freq_by_Product  \\\n",
       "0                                0.007092         0.274616   \n",
       "1                                0.007092         0.274616   \n",
       "\n",
       "   mean_response_rate_by_State  mean_response_rate_over_avg_by_State  \\\n",
       "0                     0.976779                              0.004468   \n",
       "1                     0.976779                              0.004468   \n",
       "\n",
       "   freq_by_State  mean_response_rate_by_ZIP_code  \\\n",
       "0        0.02487                        0.983923   \n",
       "1        0.02487                        0.983923   \n",
       "\n",
       "   mean_response_rate_over_avg_by_ZIP_code  freq_by_ZIP_code  \n",
       "0                                 0.011815          0.001084  \n",
       "1                                 0.011815          0.001084  \n",
       "\n",
       "[2 rows x 36 columns]"
      ]
     },
     "execution_count": 25,
     "metadata": {},
     "output_type": "execute_result"
    }
   ],
   "source": [
    "data1.head(2)"
   ]
  },
  {
   "cell_type": "code",
   "execution_count": 26,
   "metadata": {
    "collapsed": true
   },
   "outputs": [],
   "source": [
    "dummies = pd.get_dummies(data1[[1,2,4,6]])"
   ]
  },
  {
   "cell_type": "code",
   "execution_count": 27,
   "metadata": {
    "collapsed": true
   },
   "outputs": [],
   "source": [
    "data1 = data1.drop(\n",
    "    ['Date_received', 'ZIP_code', 'Date_sent_to_company', \n",
    "     'Complaint_ID', 'Company', 'Product', 'Issue', 'State', \n",
    "     'Submitted_via', 'Company_response_to_consumer'], 1\n",
    ")"
   ]
  },
  {
   "cell_type": "code",
   "execution_count": 28,
   "metadata": {
    "collapsed": false
   },
   "outputs": [
    {
     "data": {
      "text/html": [
       "<div>\n",
       "<table border=\"1\" class=\"dataframe\">\n",
       "  <thead>\n",
       "    <tr style=\"text-align: right;\">\n",
       "      <th></th>\n",
       "      <th>Is_Timely_response</th>\n",
       "      <th>Is_Consumer_disputed</th>\n",
       "      <th>days_spend</th>\n",
       "      <th>year</th>\n",
       "      <th>month</th>\n",
       "      <th>mean_rate_by_time</th>\n",
       "      <th>mean_rate_over_avg_by_time</th>\n",
       "      <th>complaint_scale</th>\n",
       "      <th>mean_response_rate_by_Company</th>\n",
       "      <th>mean_response_rate_over_avg_by_Company</th>\n",
       "      <th>...</th>\n",
       "      <th>State_WA</th>\n",
       "      <th>State_WI</th>\n",
       "      <th>State_WV</th>\n",
       "      <th>State_WY</th>\n",
       "      <th>Submitted_via_Email</th>\n",
       "      <th>Submitted_via_Fax</th>\n",
       "      <th>Submitted_via_Phone</th>\n",
       "      <th>Submitted_via_Postal mail</th>\n",
       "      <th>Submitted_via_Referral</th>\n",
       "      <th>Submitted_via_Web</th>\n",
       "    </tr>\n",
       "  </thead>\n",
       "  <tbody>\n",
       "    <tr>\n",
       "      <th>0</th>\n",
       "      <td>1</td>\n",
       "      <td>0</td>\n",
       "      <td>5.0</td>\n",
       "      <td>2014</td>\n",
       "      <td>3</td>\n",
       "      <td>0.984378</td>\n",
       "      <td>0.011944</td>\n",
       "      <td>4.0</td>\n",
       "      <td>0.987044</td>\n",
       "      <td>0.015024</td>\n",
       "      <td>...</td>\n",
       "      <td>0</td>\n",
       "      <td>0</td>\n",
       "      <td>0</td>\n",
       "      <td>0</td>\n",
       "      <td>0</td>\n",
       "      <td>0</td>\n",
       "      <td>0</td>\n",
       "      <td>0</td>\n",
       "      <td>1</td>\n",
       "      <td>0</td>\n",
       "    </tr>\n",
       "    <tr>\n",
       "      <th>1</th>\n",
       "      <td>1</td>\n",
       "      <td>0</td>\n",
       "      <td>4.0</td>\n",
       "      <td>2014</td>\n",
       "      <td>6</td>\n",
       "      <td>0.978667</td>\n",
       "      <td>0.006233</td>\n",
       "      <td>4.0</td>\n",
       "      <td>0.987044</td>\n",
       "      <td>0.015024</td>\n",
       "      <td>...</td>\n",
       "      <td>0</td>\n",
       "      <td>0</td>\n",
       "      <td>0</td>\n",
       "      <td>0</td>\n",
       "      <td>0</td>\n",
       "      <td>1</td>\n",
       "      <td>0</td>\n",
       "      <td>0</td>\n",
       "      <td>0</td>\n",
       "      <td>0</td>\n",
       "    </tr>\n",
       "  </tbody>\n",
       "</table>\n",
       "<p>2 rows × 278 columns</p>\n",
       "</div>"
      ],
      "text/plain": [
       "   Is_Timely_response Is_Consumer_disputed  days_spend  year  month  \\\n",
       "0                   1                    0         5.0  2014      3   \n",
       "1                   1                    0         4.0  2014      6   \n",
       "\n",
       "   mean_rate_by_time  mean_rate_over_avg_by_time  complaint_scale  \\\n",
       "0           0.984378                    0.011944              4.0   \n",
       "1           0.978667                    0.006233              4.0   \n",
       "\n",
       "   mean_response_rate_by_Company  mean_response_rate_over_avg_by_Company  \\\n",
       "0                       0.987044                                0.015024   \n",
       "1                       0.987044                                0.015024   \n",
       "\n",
       "         ...          State_WA  State_WI  State_WV  State_WY  \\\n",
       "0        ...                 0         0         0         0   \n",
       "1        ...                 0         0         0         0   \n",
       "\n",
       "   Submitted_via_Email  Submitted_via_Fax  Submitted_via_Phone  \\\n",
       "0                    0                  0                    0   \n",
       "1                    0                  1                    0   \n",
       "\n",
       "   Submitted_via_Postal mail  Submitted_via_Referral  Submitted_via_Web  \n",
       "0                          0                       1                  0  \n",
       "1                          0                       0                  0  \n",
       "\n",
       "[2 rows x 278 columns]"
      ]
     },
     "execution_count": 28,
     "metadata": {},
     "output_type": "execute_result"
    }
   ],
   "source": [
    "data1 = pd.concat([data1,dummies],1,join='inner')\n",
    "data1.head(2)"
   ]
  },
  {
   "cell_type": "markdown",
   "metadata": {},
   "source": [
    "** Outliers in days_spend **"
   ]
  },
  {
   "cell_type": "code",
   "execution_count": 36,
   "metadata": {
    "collapsed": false
   },
   "outputs": [],
   "source": [
    "avg = data1.days_spend.mean()"
   ]
  },
  {
   "cell_type": "code",
   "execution_count": 37,
   "metadata": {
    "collapsed": false
   },
   "outputs": [
    {
     "data": {
      "text/plain": [
       "53.7107784586878"
      ]
     },
     "execution_count": 37,
     "metadata": {},
     "output_type": "execute_result"
    }
   ],
   "source": [
    "avg + 3 * math.sqrt(data1.days_spend.var())"
   ]
  },
  {
   "cell_type": "code",
   "execution_count": 50,
   "metadata": {
    "collapsed": false
   },
   "outputs": [
    {
     "data": {
      "text/plain": [
       "0.9309626156050541"
      ]
     },
     "execution_count": 50,
     "metadata": {},
     "output_type": "execute_result"
    }
   ],
   "source": [
    "data1.Is_Timely_response[data1.days_spend > 53].mean()"
   ]
  },
  {
   "cell_type": "code",
   "execution_count": null,
   "metadata": {
    "collapsed": true
   },
   "outputs": [],
   "source": []
  },
  {
   "cell_type": "code",
   "execution_count": 29,
   "metadata": {
    "collapsed": false
   },
   "outputs": [
    {
     "data": {
      "text/plain": [
       "(860606, 278)"
      ]
     },
     "execution_count": 29,
     "metadata": {},
     "output_type": "execute_result"
    }
   ],
   "source": [
    "data1.to_csv('./data_for_tree.csv', index=False)\n",
    "data1.shape"
   ]
  },
  {
   "cell_type": "code",
   "execution_count": null,
   "metadata": {
    "collapsed": true
   },
   "outputs": [],
   "source": []
  },
  {
   "cell_type": "code",
   "execution_count": null,
   "metadata": {
    "collapsed": true
   },
   "outputs": [],
   "source": []
  },
  {
   "cell_type": "code",
   "execution_count": null,
   "metadata": {
    "collapsed": true
   },
   "outputs": [],
   "source": []
  },
  {
   "cell_type": "code",
   "execution_count": null,
   "metadata": {
    "collapsed": true
   },
   "outputs": [],
   "source": []
  },
  {
   "cell_type": "code",
   "execution_count": null,
   "metadata": {
    "collapsed": true
   },
   "outputs": [],
   "source": []
  },
  {
   "cell_type": "markdown",
   "metadata": {},
   "source": [
    "### 4. Feature Selection / Reduction"
   ]
  },
  {
   "cell_type": "code",
   "execution_count": 59,
   "metadata": {
    "collapsed": false
   },
   "outputs": [
    {
     "name": "stderr",
     "output_type": "stream",
     "text": [
      "/Users/yangtian/anaconda/lib/python3.5/site-packages/sklearn/cross_validation.py:44: DeprecationWarning: This module was deprecated in version 0.18 in favor of the model_selection module into which all the refactored classes and functions are moved. Also note that the interface of the new CV iterators are different from that of this module. This module will be removed in 0.20.\n",
      "  \"This module will be removed in 0.20.\", DeprecationWarning)\n"
     ]
    }
   ],
   "source": [
    "import xgboost as xgb"
   ]
  },
  {
   "cell_type": "code",
   "execution_count": 95,
   "metadata": {
    "collapsed": false
   },
   "outputs": [
    {
     "data": {
      "text/plain": [
       "(860606, 289)"
      ]
     },
     "execution_count": 95,
     "metadata": {},
     "output_type": "execute_result"
    }
   ],
   "source": [
    "data1.shape"
   ]
  },
  {
   "cell_type": "code",
   "execution_count": 96,
   "metadata": {
    "collapsed": false
   },
   "outputs": [],
   "source": [
    "data1.Is_Consumer_disputed = data1.Is_Consumer_disputed.astype('int')"
   ]
  },
  {
   "cell_type": "code",
   "execution_count": 97,
   "metadata": {
    "collapsed": true
   },
   "outputs": [],
   "source": [
    "label = data1.Is_Timely_response\n",
    "del data1['Is_Timely_response']"
   ]
  },
  {
   "cell_type": "code",
   "execution_count": 98,
   "metadata": {
    "collapsed": false
   },
   "outputs": [],
   "source": [
    "dtrain = xgb.DMatrix(data1, label=label)"
   ]
  },
  {
   "cell_type": "code",
   "execution_count": 100,
   "metadata": {
    "collapsed": true
   },
   "outputs": [],
   "source": [
    "param = {'max_depth': 20, 'eta': 100, 'silent': 1, 'objective': 'binary:logistic'}\n",
    "param['nthread'] = 4\n",
    "param['eval_metric'] = ['auc', 'ams@0']"
   ]
  },
  {
   "cell_type": "code",
   "execution_count": 69,
   "metadata": {
    "collapsed": true
   },
   "outputs": [],
   "source": [
    "import time"
   ]
  },
  {
   "cell_type": "code",
   "execution_count": 101,
   "metadata": {
    "collapsed": false
   },
   "outputs": [
    {
     "name": "stdout",
     "output_type": "stream",
     "text": [
      "--- 622.9971420764923 seconds ---\n"
     ]
    }
   ],
   "source": [
    "start_time = time.time()\n",
    "\n",
    "num_round = 300\n",
    "bst = xgb.train(param, dtrain, num_round)\n",
    "\n",
    "print(\"--- %s seconds ---\" % (time.time() - start_time))"
   ]
  },
  {
   "cell_type": "code",
   "execution_count": 102,
   "metadata": {
    "collapsed": false
   },
   "outputs": [
    {
     "data": {
      "image/png": "[encoded data removed]",
      "text/plain": [
       "<matplotlib.figure.Figure at 0x112de65c0>"
      ]
     },
     "metadata": {},
     "output_type": "display_data"
    }
   ],
   "source": [
    "xgb.plot_importance(bst)\n",
    "plt.show()"
   ]
  },
  {
   "cell_type": "code",
   "execution_count": 103,
   "metadata": {
    "collapsed": false
   },
   "outputs": [
    {
     "data": {
      "text/plain": [
       "{'Company_response_to_consumer_Closed': 1,\n",
       " 'Company_response_to_consumer_Closed with monetary relief': 6,\n",
       " 'Company_response_to_consumer_Closed with non-monetary relief': 1,\n",
       " 'Company_response_to_consumer_Closed without relief': 3,\n",
       " 'Is_Consumer_disputed': 29,\n",
       " 'Issue_Account opening, closing, or management': 1,\n",
       " 'Issue_Account terms and changes': 1,\n",
       " 'Issue_Advertising and marketing': 1,\n",
       " 'Issue_Application, originator, mortgage broker': 5,\n",
       " 'Issue_Arbitration': 1,\n",
       " 'Issue_Balance transfer fee': 1,\n",
       " 'Issue_Billing disputes': 2,\n",
       " \"Issue_Can't stop charges to bank account\": 1,\n",
       " 'Issue_Charged bank acct wrong day or amt': 1,\n",
       " 'Issue_Closing your account': 1,\n",
       " 'Issue_Closing/Cancelling account': 4,\n",
       " 'Issue_Communication tactics': 14,\n",
       " \"Issue_Cont'd attempts collect debt not owed\": 14,\n",
       " 'Issue_Credit decision / Underwriting': 2,\n",
       " 'Issue_Credit determination': 1,\n",
       " 'Issue_Credit line increase/decrease': 2,\n",
       " 'Issue_Credit reporting': 1,\n",
       " 'Issue_Customer service / Customer relations': 1,\n",
       " 'Issue_Dealing with my lender or servicer': 2,\n",
       " 'Issue_Dealing with your lender or servicer': 1,\n",
       " 'Issue_Deposits and withdrawals': 4,\n",
       " 'Issue_Disclosure verification of debt': 15,\n",
       " 'Issue_Excessive fees': 1,\n",
       " 'Issue_False statements or representation': 11,\n",
       " 'Issue_Forbearance / Workout plans': 1,\n",
       " 'Issue_Fraud or scam': 1,\n",
       " 'Issue_Identity theft / Fraud / Embezzlement': 1,\n",
       " 'Issue_Improper contact or sharing of info': 10,\n",
       " 'Issue_Improper use of my credit report': 1,\n",
       " 'Issue_Improper use of your report': 3,\n",
       " 'Issue_Incorrect information on credit report': 1,\n",
       " 'Issue_Loan servicing, payments, escrow account': 11,\n",
       " 'Issue_Lost or stolen money order': 1,\n",
       " 'Issue_Making/receiving payments, sending money': 4,\n",
       " 'Issue_Managing the loan or lease': 3,\n",
       " 'Issue_Other': 4,\n",
       " 'Issue_Other transaction issues': 1,\n",
       " 'Issue_Payment to acct not credited': 1,\n",
       " \"Issue_Problem with a credit reporting company's investigation into an existing problem\": 3,\n",
       " 'Issue_Problems caused by my funds being low': 2,\n",
       " 'Issue_Problems when you are unable to pay': 2,\n",
       " \"Issue_Received a loan I didn't apply for\": 2,\n",
       " 'Issue_Repaying your loan': 2,\n",
       " 'Issue_Rewards': 1,\n",
       " 'Issue_Settlement process and costs': 4,\n",
       " 'Issue_Shopping for a loan or lease': 3,\n",
       " 'Issue_Struggling to pay your loan': 1,\n",
       " 'Issue_Taking out the loan or lease': 3,\n",
       " 'Issue_Taking/threatening an illegal action': 3,\n",
       " 'Issue_Took or threatened to take negative or legal action': 1,\n",
       " 'Issue_Transaction issue': 1,\n",
       " 'Issue_Using a debit or ATM card': 5,\n",
       " 'Issue_Written notification about debt': 1,\n",
       " 'Product_Bank account or service': 3,\n",
       " 'Product_Checking or savings account': 1,\n",
       " 'Product_Consumer Loan': 11,\n",
       " 'Product_Credit card': 3,\n",
       " 'Product_Credit reporting, credit repair services, or other personal consumer reports': 2,\n",
       " 'Product_Debt collection': 2,\n",
       " 'Product_Money transfers': 1,\n",
       " 'Product_Payday loan': 1,\n",
       " 'Product_Payday loan, title loan, or personal loan': 2,\n",
       " 'Product_Prepaid card': 2,\n",
       " 'Product_Student loan': 5,\n",
       " 'Product_Vehicle loan or lease': 1,\n",
       " 'State_AL': 3,\n",
       " 'State_AR': 2,\n",
       " 'State_AZ': 5,\n",
       " 'State_CO': 1,\n",
       " 'State_CT': 2,\n",
       " 'State_DC': 7,\n",
       " 'State_DE': 1,\n",
       " 'State_FL': 11,\n",
       " 'State_GA': 7,\n",
       " 'State_HI': 1,\n",
       " 'State_ID': 1,\n",
       " 'State_IL': 8,\n",
       " 'State_IN': 3,\n",
       " 'State_KS': 1,\n",
       " 'State_KY': 1,\n",
       " 'State_LA': 6,\n",
       " 'State_MA': 8,\n",
       " 'State_MD': 10,\n",
       " 'State_ME': 1,\n",
       " 'State_MI': 7,\n",
       " 'State_MN': 4,\n",
       " 'State_MO': 5,\n",
       " 'State_NC': 8,\n",
       " 'State_NE': 1,\n",
       " 'State_NH': 2,\n",
       " 'State_NJ': 11,\n",
       " 'State_NM': 1,\n",
       " 'State_NV': 2,\n",
       " 'State_NY': 3,\n",
       " 'State_OH': 5,\n",
       " 'State_OK': 3,\n",
       " 'State_OR': 7,\n",
       " 'State_PA': 8,\n",
       " 'State_SC': 8,\n",
       " 'State_SD': 1,\n",
       " 'State_TN': 5,\n",
       " 'State_TX': 15,\n",
       " 'State_UT': 1,\n",
       " 'State_VA': 11,\n",
       " 'State_WA': 9,\n",
       " 'State_WI': 3,\n",
       " 'State_WV': 1,\n",
       " 'Submitted_via_Fax': 2,\n",
       " 'Submitted_via_Phone': 16,\n",
       " 'Submitted_via_Postal mail': 6,\n",
       " 'Submitted_via_Referral': 18,\n",
       " 'Submitted_via_Web': 24,\n",
       " 'complaint_scale': 55,\n",
       " 'days_spend': 277,\n",
       " 'freq_by_Company': 211,\n",
       " 'freq_by_Company_response_to_consumer': 29,\n",
       " 'freq_by_Issue': 153,\n",
       " 'freq_by_Product': 37,\n",
       " 'freq_by_State': 214,\n",
       " 'freq_by_ZIP_code': 347,\n",
       " 'mean_rate_by_time': 274,\n",
       " 'mean_response_rate_by_Company': 268,\n",
       " 'mean_response_rate_by_Company_response_to_consumer': 46,\n",
       " 'mean_response_rate_by_Is_Consumer_disputed': 9,\n",
       " 'mean_response_rate_by_Issue': 175,\n",
       " 'mean_response_rate_by_Product': 17,\n",
       " 'mean_response_rate_by_State': 234,\n",
       " 'mean_response_rate_by_ZIP_code': 491,\n",
       " 'month': 263,\n",
       " 'year': 120}"
      ]
     },
     "execution_count": 103,
     "metadata": {},
     "output_type": "execute_result"
    }
   ],
   "source": [
    "bst.get_fscore()"
   ]
  },
  {
   "cell_type": "code",
   "execution_count": null,
   "metadata": {
    "collapsed": true
   },
   "outputs": [],
   "source": []
  }
 ],
 "metadata": {
  "anaconda-cloud": {},
  "kernelspec": {
   "display_name": "Python [conda root]",
   "language": "python",
   "name": "conda-root-py"
  },
  "language_info": {
   "codemirror_mode": {
    "name": "ipython",
    "version": 3
   },
   "file_extension": ".py",
   "mimetype": "text/x-python",
   "name": "python",
   "nbconvert_exporter": "python",
   "pygments_lexer": "ipython3",
   "version": "3.5.2"
  }
 },
 "nbformat": 4,
 "nbformat_minor": 1
}
