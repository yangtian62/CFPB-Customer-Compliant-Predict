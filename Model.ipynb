{
 "cells": [
  {
   "cell_type": "markdown",
   "metadata": {},
   "source": [
    "# CFPB Customer Complait Issue"
   ]
  },
  {
   "cell_type": "markdown",
   "metadata": {},
   "source": [
    "## Model Building"
   ]
  },
  {
   "cell_type": "markdown",
   "metadata": {},
   "source": [
    "### 1. Import packages"
   ]
  },
  {
   "cell_type": "code",
   "execution_count": 1,
   "metadata": {
    "collapsed": false
   },
   "outputs": [
    {
     "name": "stderr",
     "output_type": "stream",
     "text": [
      "/Users/yangtian/anaconda/lib/python3.5/site-packages/sklearn/cross_validation.py:44: DeprecationWarning: This module was deprecated in version 0.18 in favor of the model_selection module into which all the refactored classes and functions are moved. Also note that the interface of the new CV iterators are different from that of this module. This module will be removed in 0.20.\n",
      "  \"This module will be removed in 0.20.\", DeprecationWarning)\n"
     ]
    }
   ],
   "source": [
    "# Ignore warnings\n",
    "import warnings\n",
    "warnings.filterwarnings('ignore')\n",
    "\n",
    "# Basic operations\n",
    "import numpy as np\n",
    "import pandas as pd\n",
    "\n",
    "# Visualization\n",
    "import matplotlib.pyplot as plt\n",
    "\n",
    "# Machine learning\n",
    "import lightgbm as lgb\n",
    "import xgboost as xgb\n",
    "\n",
    "# Sklearn package sets\n",
    "from sklearn.model_selection import train_test_split\n",
    "from sklearn.metrics import confusion_matrix, roc_curve, roc_auc_score\n",
    "#from sklearn.metrics import roc_curve\n",
    "#from sklearn.metrics import roc_auc_score\n",
    "from sklearn.decomposition import PCA\n",
    "from sklearn.preprocessing import normalize\n",
    "from sklearn.linear_model import LogisticRegression\n",
    "\n",
    "# Timer\n",
    "import time\n"
   ]
  },
  {
   "cell_type": "markdown",
   "metadata": {},
   "source": [
    "### 2. Load Data"
   ]
  },
  {
   "cell_type": "code",
   "execution_count": 2,
   "metadata": {
    "collapsed": false
   },
   "outputs": [
    {
     "data": {
      "text/plain": [
       "(860606, 278)"
      ]
     },
     "execution_count": 2,
     "metadata": {},
     "output_type": "execute_result"
    }
   ],
   "source": [
    "data = pd.read_csv('./data_for_tree.csv')\n",
    "data.shape"
   ]
  },
  {
   "cell_type": "code",
   "execution_count": 3,
   "metadata": {
    "collapsed": false
   },
   "outputs": [
    {
     "data": {
      "text/html": [
       "<div>\n",
       "<table border=\"1\" class=\"dataframe\">\n",
       "  <thead>\n",
       "    <tr style=\"text-align: right;\">\n",
       "      <th></th>\n",
       "      <th>Is_Timely_response</th>\n",
       "      <th>Is_Consumer_disputed</th>\n",
       "      <th>days_spend</th>\n",
       "      <th>year</th>\n",
       "      <th>month</th>\n",
       "      <th>mean_rate_by_time</th>\n",
       "      <th>mean_rate_over_avg_by_time</th>\n",
       "      <th>complaint_scale</th>\n",
       "      <th>mean_response_rate_by_Company</th>\n",
       "      <th>mean_response_rate_over_avg_by_Company</th>\n",
       "      <th>...</th>\n",
       "      <th>State_WA</th>\n",
       "      <th>State_WI</th>\n",
       "      <th>State_WV</th>\n",
       "      <th>State_WY</th>\n",
       "      <th>Submitted_via_Email</th>\n",
       "      <th>Submitted_via_Fax</th>\n",
       "      <th>Submitted_via_Phone</th>\n",
       "      <th>Submitted_via_Postal mail</th>\n",
       "      <th>Submitted_via_Referral</th>\n",
       "      <th>Submitted_via_Web</th>\n",
       "    </tr>\n",
       "  </thead>\n",
       "  <tbody>\n",
       "    <tr>\n",
       "      <th>0</th>\n",
       "      <td>1</td>\n",
       "      <td>0</td>\n",
       "      <td>5.0</td>\n",
       "      <td>2014</td>\n",
       "      <td>3</td>\n",
       "      <td>0.984378</td>\n",
       "      <td>0.011944</td>\n",
       "      <td>4.0</td>\n",
       "      <td>0.987044</td>\n",
       "      <td>0.015024</td>\n",
       "      <td>...</td>\n",
       "      <td>0</td>\n",
       "      <td>0</td>\n",
       "      <td>0</td>\n",
       "      <td>0</td>\n",
       "      <td>0</td>\n",
       "      <td>0</td>\n",
       "      <td>0</td>\n",
       "      <td>0</td>\n",
       "      <td>1</td>\n",
       "      <td>0</td>\n",
       "    </tr>\n",
       "    <tr>\n",
       "      <th>1</th>\n",
       "      <td>1</td>\n",
       "      <td>0</td>\n",
       "      <td>4.0</td>\n",
       "      <td>2014</td>\n",
       "      <td>6</td>\n",
       "      <td>0.978667</td>\n",
       "      <td>0.006233</td>\n",
       "      <td>4.0</td>\n",
       "      <td>0.987044</td>\n",
       "      <td>0.015024</td>\n",
       "      <td>...</td>\n",
       "      <td>0</td>\n",
       "      <td>0</td>\n",
       "      <td>0</td>\n",
       "      <td>0</td>\n",
       "      <td>0</td>\n",
       "      <td>1</td>\n",
       "      <td>0</td>\n",
       "      <td>0</td>\n",
       "      <td>0</td>\n",
       "      <td>0</td>\n",
       "    </tr>\n",
       "    <tr>\n",
       "      <th>2</th>\n",
       "      <td>1</td>\n",
       "      <td>0</td>\n",
       "      <td>4.0</td>\n",
       "      <td>2014</td>\n",
       "      <td>11</td>\n",
       "      <td>0.969955</td>\n",
       "      <td>-0.002479</td>\n",
       "      <td>4.0</td>\n",
       "      <td>0.987044</td>\n",
       "      <td>0.015024</td>\n",
       "      <td>...</td>\n",
       "      <td>0</td>\n",
       "      <td>0</td>\n",
       "      <td>0</td>\n",
       "      <td>0</td>\n",
       "      <td>0</td>\n",
       "      <td>1</td>\n",
       "      <td>0</td>\n",
       "      <td>0</td>\n",
       "      <td>0</td>\n",
       "      <td>0</td>\n",
       "    </tr>\n",
       "  </tbody>\n",
       "</table>\n",
       "<p>3 rows × 278 columns</p>\n",
       "</div>"
      ],
      "text/plain": [
       "   Is_Timely_response  Is_Consumer_disputed  days_spend  year  month  \\\n",
       "0                   1                     0         5.0  2014      3   \n",
       "1                   1                     0         4.0  2014      6   \n",
       "2                   1                     0         4.0  2014     11   \n",
       "\n",
       "   mean_rate_by_time  mean_rate_over_avg_by_time  complaint_scale  \\\n",
       "0           0.984378                    0.011944              4.0   \n",
       "1           0.978667                    0.006233              4.0   \n",
       "2           0.969955                   -0.002479              4.0   \n",
       "\n",
       "   mean_response_rate_by_Company  mean_response_rate_over_avg_by_Company  \\\n",
       "0                       0.987044                                0.015024   \n",
       "1                       0.987044                                0.015024   \n",
       "2                       0.987044                                0.015024   \n",
       "\n",
       "         ...          State_WA  State_WI  State_WV  State_WY  \\\n",
       "0        ...                 0         0         0         0   \n",
       "1        ...                 0         0         0         0   \n",
       "2        ...                 0         0         0         0   \n",
       "\n",
       "   Submitted_via_Email  Submitted_via_Fax  Submitted_via_Phone  \\\n",
       "0                    0                  0                    0   \n",
       "1                    0                  1                    0   \n",
       "2                    0                  1                    0   \n",
       "\n",
       "   Submitted_via_Postal mail  Submitted_via_Referral  Submitted_via_Web  \n",
       "0                          0                       1                  0  \n",
       "1                          0                       0                  0  \n",
       "2                          0                       0                  0  \n",
       "\n",
       "[3 rows x 278 columns]"
      ]
     },
     "execution_count": 3,
     "metadata": {},
     "output_type": "execute_result"
    }
   ],
   "source": [
    "data.head(3)"
   ]
  },
  {
   "cell_type": "code",
   "execution_count": 4,
   "metadata": {
    "collapsed": false
   },
   "outputs": [
    {
     "data": {
      "text/plain": [
       "602424"
      ]
     },
     "execution_count": 4,
     "metadata": {},
     "output_type": "execute_result"
    }
   ],
   "source": [
    "train_len = int(data.shape[0] * 0.7)\n",
    "train_len"
   ]
  },
  {
   "cell_type": "markdown",
   "metadata": {
    "collapsed": true
   },
   "source": [
    "** Split training, validation and test set **"
   ]
  },
  {
   "cell_type": "markdown",
   "metadata": {},
   "source": [
    "- training set: 70%\n",
    "- validation set: 15%\n",
    "- test set: 15%"
   ]
  },
  {
   "cell_type": "markdown",
   "metadata": {},
   "source": [
    "** Set Seed **"
   ]
  },
  {
   "cell_type": "code",
   "execution_count": 7,
   "metadata": {
    "collapsed": true
   },
   "outputs": [],
   "source": [
    "# global seed\n",
    "rs = 20171101\n",
    "np.random.seed(rs)"
   ]
  },
  {
   "cell_type": "code",
   "execution_count": 8,
   "metadata": {
    "collapsed": false
   },
   "outputs": [
    {
     "name": "stdout",
     "output_type": "stream",
     "text": [
      "Training set shape: (731515, 278)\n",
      "Test set shape: (129091, 278)\n"
     ]
    }
   ],
   "source": [
    "train_len = int(data.shape[0] * 0.85)\n",
    "\n",
    "train = data.iloc[:train_len,:]\n",
    "test = data.iloc[train_len: ,:]\n",
    "\n",
    "print('Training set shape:', train.shape)\n",
    "print('Test set shape:', test.shape)"
   ]
  },
  {
   "cell_type": "code",
   "execution_count": 9,
   "metadata": {
    "collapsed": false
   },
   "outputs": [
    {
     "name": "stdout",
     "output_type": "stream",
     "text": [
      "X_train shape: (621787, 277)\n",
      "X_val shape: (109728, 277)\n",
      "y_train shape: (621787,)\n",
      "y_val shape: (109728,)\n"
     ]
    }
   ],
   "source": [
    "label = train.Is_Timely_response\n",
    "del train['Is_Timely_response']\n",
    "\n",
    "X_train, X_val, y_train, y_val = train_test_split(\n",
    "    train, label, \n",
    "    test_size = 0.15, \n",
    "    random_state = rs)\n",
    "\n",
    "print('X_train shape:', X_train.shape)\n",
    "print('X_val shape:', X_val.shape)\n",
    "print('y_train shape:', y_train.shape)\n",
    "print('y_val shape:', y_val.shape)"
   ]
  },
  {
   "cell_type": "code",
   "execution_count": null,
   "metadata": {
    "collapsed": false
   },
   "outputs": [],
   "source": []
  },
  {
   "cell_type": "markdown",
   "metadata": {},
   "source": [
    "### 3. Model Building"
   ]
  },
  {
   "cell_type": "markdown",
   "metadata": {},
   "source": [
    "** Light GBM **"
   ]
  },
  {
   "cell_type": "code",
   "execution_count": 33,
   "metadata": {
    "collapsed": false,
    "scrolled": true
   },
   "outputs": [
    {
     "name": "stdout",
     "output_type": "stream",
     "text": [
      "Round = 600:\n",
      "======================\n",
      "Accuracy: 0.980715952173\n",
      "Sensitivity: 0.400341296928\n",
      "Running time: 39.864089012145996\n",
      "\n",
      "Round = 800:\n",
      "======================\n",
      "Accuracy: 0.980788859726\n",
      "Sensitivity: 0.404436860068\n",
      "Running time: 48.89823913574219\n",
      "\n",
      "Round = 1000:\n",
      "======================\n",
      "Accuracy: 0.980761519393\n",
      "Sensitivity: 0.404778156997\n",
      "Running time: 56.01082706451416\n",
      "\n",
      "Round = 1200:\n",
      "======================\n",
      "Accuracy: 0.980870880723\n",
      "Sensitivity: 0.407508532423\n",
      "Running time: 62.878029108047485\n",
      "\n",
      "Round = 1400:\n",
      "======================\n",
      "Accuracy: 0.980934674832\n",
      "Sensitivity: 0.41023890785\n",
      "Running time: 68.13631200790405\n",
      "\n",
      "Round = 1600:\n",
      "======================\n",
      "Accuracy: 0.980971128609\n",
      "Sensitivity: 0.412627986348\n",
      "Running time: 78.25528693199158\n",
      "\n",
      "Round = 1800:\n",
      "======================\n",
      "Accuracy: 0.980998468941\n",
      "Sensitivity: 0.414675767918\n",
      "Running time: 88.11366200447083\n",
      "\n",
      "Round = 2000:\n",
      "======================\n",
      "Accuracy: 0.980943788276\n",
      "Sensitivity: 0.414675767918\n",
      "Running time: 101.53858518600464\n",
      "\n",
      "Round = 2200:\n",
      "======================\n",
      "Accuracy: 0.980898221056\n",
      "Sensitivity: 0.411604095563\n",
      "Running time: 113.58572316169739\n",
      "\n",
      "Round = 2400:\n",
      "======================\n",
      "Accuracy: 0.980816200058\n",
      "Sensitivity: 0.411945392491\n",
      "Running time: 117.69336605072021\n",
      "\n"
     ]
    }
   ],
   "source": [
    "sens=[]\n",
    "accu=[]\n",
    "for rounds in [600,800,1000,1200,1400,1600,1800,2000,2200,2400]:\n",
    "    param  = {\n",
    "    'objective': 'binary',\n",
    "    'metric': 'binary_logloss',\n",
    "    'boosting': 'gbdt',\n",
    "    'learning_rate': 0.05,\n",
    "    'feature_fraction': 0.8,\n",
    "    'feature_fraction_seed': rs,\n",
    "    'bagging_fraction': 0.9,\n",
    "    'bagging_freq': 1,\n",
    "    'bagging_seed': rs,\n",
    "    'num_boost_round': rounds\n",
    "    }\n",
    "    \n",
    "    start_time = time.time()\n",
    "\n",
    "    data_lgb = lgb.Dataset(X_train, y_train)\n",
    "    lgbm = lgb.train(param, data_lgb)\n",
    "    pred = lgbm.predict(X_val)\n",
    "\n",
    "    pred[pred > 0.5] = 1\n",
    "    pred[pred < 0.5] = 0\n",
    "\n",
    "    conf_mat = confusion_matrix(y_val, pred)\n",
    "    acc = (conf_mat[0][0] + conf_mat[1][1])/len(y_val)\n",
    "    sen = conf_mat[0][0]/(conf_mat[0][0] + conf_mat[0][1])\n",
    "\n",
    "    print('Round = %i:'%rounds)\n",
    "    print('======================')\n",
    "    print('Accuracy:', acc)\n",
    "\n",
    "    sen = conf_mat[0][0]/(conf_mat[0][0] + conf_mat[0][1])\n",
    "    print('Sensitivity:', sen)\n",
    "    print('Running time:', (time.time() - start_time))\n",
    "    print('')\n",
    "    \n",
    "    sens.append(sen)\n",
    "    accu.append(acc)"
   ]
  },
  {
   "cell_type": "code",
   "execution_count": 37,
   "metadata": {
    "collapsed": false
   },
   "outputs": [
    {
     "data": {
      "image/png": "[encoded data removed]",
      "text/plain": [
       "<matplotlib.figure.Figure at 0x1338587b8>"
      ]
     },
     "metadata": {},
     "output_type": "display_data"
    }
   ],
   "source": [
    "rounds = [600,800,1000,1200,1400,1600,1800,2000,2200,2400]\n",
    "\n",
    "plt.plot(rounds,sens)\n",
    "#plt.plot(rounds,accu)\n",
    "plt.show()"
   ]
  },
  {
   "cell_type": "code",
   "execution_count": 38,
   "metadata": {
    "collapsed": true
   },
   "outputs": [],
   "source": [
    "rounds = 1800\n",
    "\n",
    "param  = {\n",
    "    'objective': 'binary',\n",
    "    'metric': 'binary_logloss',\n",
    "    'boosting': 'gbdt',\n",
    "    'learning_rate': 0.05,\n",
    "    'feature_fraction': 0.8,\n",
    "    'feature_fraction_seed': rs,\n",
    "    'bagging_fraction': 0.9,\n",
    "    'bagging_freq': 1,\n",
    "    'bagging_seed': rs,\n",
    "    'num_boost_round': rounds\n",
    "}"
   ]
  },
  {
   "cell_type": "code",
   "execution_count": 39,
   "metadata": {
    "collapsed": false
   },
   "outputs": [
    {
     "name": "stdout",
     "output_type": "stream",
     "text": [
      "### 91.08968210220337 seconds ###\n"
     ]
    }
   ],
   "source": [
    "start_time = time.time()\n",
    "\n",
    "data_lgb = lgb.Dataset(X_train, y_train)\n",
    "lgbm = lgb.train(param, data_lgb)\n",
    "pred = lgbm.predict(X_val)\n",
    "\n",
    "print(\"### %s seconds ###\" % (time.time() - start_time))"
   ]
  },
  {
   "cell_type": "markdown",
   "metadata": {},
   "source": [
    "** CV?? **"
   ]
  },
  {
   "cell_type": "code",
   "execution_count": 29,
   "metadata": {
    "collapsed": false
   },
   "outputs": [
    {
     "name": "stdout",
     "output_type": "stream",
     "text": [
      "### 91.35066390037537 seconds ###\n"
     ]
    }
   ],
   "source": [
    "start_time = time.time()\n",
    "\n",
    "data_lgbm_cv = lgb.Dataset(train, label)\n",
    "lgbm_cv = lgb.cv(param, data_lgbm_cv, num_boost_round=100, nfold=10)\n",
    "\n",
    "print(\"### %s seconds ###\" % (time.time() - start_time))"
   ]
  },
  {
   "cell_type": "code",
   "execution_count": 30,
   "metadata": {
    "collapsed": false
   },
   "outputs": [
    {
     "data": {
      "text/plain": [
       "100"
      ]
     },
     "execution_count": 30,
     "metadata": {},
     "output_type": "execute_result"
    }
   ],
   "source": [
    "len(lgbm_cv['binary_logloss-mean'])"
   ]
  },
  {
   "cell_type": "code",
   "execution_count": 32,
   "metadata": {
    "collapsed": false
   },
   "outputs": [
    {
     "data": {
      "image/png": "[encoded data removed]",
      "text/plain": [
       "<matplotlib.figure.Figure at 0x110cc0080>"
      ]
     },
     "metadata": {},
     "output_type": "display_data"
    }
   ],
   "source": [
    "logloss = lgbm_cv['binary_logloss-mean']\n",
    "x = range(100)\n",
    "\n",
    "plt.plot(x,logloss)\n",
    "plt.xlabel('boost rounds')\n",
    "plt.ylabel('mean logloss')\n",
    "plt.show()"
   ]
  },
  {
   "cell_type": "code",
   "execution_count": null,
   "metadata": {
    "collapsed": true
   },
   "outputs": [],
   "source": []
  },
  {
   "cell_type": "markdown",
   "metadata": {},
   "source": [
    "** ROC **"
   ]
  },
  {
   "cell_type": "markdown",
   "metadata": {},
   "source": [
    "How much is the model better than random guess. "
   ]
  },
  {
   "cell_type": "code",
   "execution_count": 41,
   "metadata": {
    "collapsed": false
   },
   "outputs": [
    {
     "data": {
      "image/png": "[encoded data removed]",
      "text/plain": [
       "<matplotlib.figure.Figure at 0x11d35f3c8>"
      ]
     },
     "metadata": {},
     "output_type": "display_data"
    }
   ],
   "source": [
    "fp, tp, thr = roc_curve(y_val, pred)\n",
    "score = roc_auc_score(y_val,pred)\n",
    "\n",
    "plt.plot(fp, tp, label='Area under ROC: %0.4f'%score)\n",
    "plt.xlabel('False Positive')\n",
    "plt.ylabel('True Positive')\n",
    "plt.title('ROC Curve')\n",
    "plt.legend(loc='lower right')\n",
    "\n",
    "plt.plot([0, 1], [0, 1], linestyle='--')\n",
    "\n",
    "plt.show()"
   ]
  },
  {
   "cell_type": "markdown",
   "metadata": {},
   "source": [
    "** Accuracy and Sensitivity **"
   ]
  },
  {
   "cell_type": "code",
   "execution_count": 42,
   "metadata": {
    "collapsed": false
   },
   "outputs": [
    {
     "name": "stdout",
     "output_type": "stream",
     "text": [
      "Accuracy: 0.980998468941\n",
      "Sensitivity: 0.414675767918\n"
     ]
    }
   ],
   "source": [
    "pred[pred > 0.5] = 1\n",
    "pred[pred < 0.5] = 0\n",
    "\n",
    "conf_mat = confusion_matrix(y_val, pred)\n",
    "acc = (conf_mat[0][0] + conf_mat[1][1])/len(y_val)\n",
    "print('Accuracy:', acc)\n",
    "\n",
    "sen = conf_mat[0][0]/(conf_mat[0][0] + conf_mat[0][1])\n",
    "print('Sensitivity:', sen)"
   ]
  },
  {
   "cell_type": "code",
   "execution_count": null,
   "metadata": {
    "collapsed": true
   },
   "outputs": [],
   "source": []
  },
  {
   "cell_type": "markdown",
   "metadata": {},
   "source": [
    "** Xgboost **"
   ]
  },
  {
   "cell_type": "markdown",
   "metadata": {},
   "source": []
  },
  {
   "cell_type": "code",
   "execution_count": 15,
   "metadata": {
    "collapsed": true
   },
   "outputs": [],
   "source": [
    "dtrain = xgb.DMatrix(X_train, label=y_train)\n",
    "dtest = xgb.DMatrix(X_val)"
   ]
  },
  {
   "cell_type": "code",
   "execution_count": 18,
   "metadata": {
    "collapsed": false
   },
   "outputs": [
    {
     "name": "stdout",
     "output_type": "stream",
     "text": [
      "Eta = 100:\n",
      "======================\n",
      "Accuracy: 0.975402814232\n",
      "Sensitivity: 0.269965870307\n",
      "Running time: 60.74353098869324\n",
      "\n",
      "Eta = 150:\n",
      "======================\n",
      "Accuracy: 0.977334864392\n",
      "Sensitivity: 0.291467576792\n",
      "Running time: 60.63237500190735\n",
      "\n",
      "Eta = 200:\n",
      "======================\n",
      "Accuracy: 0.91867162438\n",
      "Sensitivity: 0.674744027304\n",
      "Running time: 60.02339315414429\n",
      "\n",
      "Eta = 250:\n",
      "======================\n",
      "Accuracy: 0.976778944299\n",
      "Sensitivity: 0.266552901024\n",
      "Running time: 60.30201482772827\n",
      "\n",
      "Eta = 300:\n",
      "======================\n",
      "Accuracy: 0.977845217265\n",
      "Sensitivity: 0.30204778157\n",
      "Running time: 59.26533317565918\n",
      "\n",
      "Eta = 350:\n",
      "======================\n",
      "Accuracy: 0.977726742491\n",
      "Sensitivity: 0.301023890785\n",
      "Running time: 61.592576026916504\n",
      "\n",
      "Eta = 400:\n",
      "======================\n",
      "Accuracy: 0.979002624672\n",
      "Sensitivity: 0.356996587031\n",
      "Running time: 58.77102494239807\n",
      "\n",
      "Eta = 450:\n",
      "======================\n",
      "Accuracy: 0.942649095946\n",
      "Sensitivity: 0.638566552901\n",
      "Running time: 58.918647050857544\n",
      "\n",
      "Eta = 500:\n",
      "======================\n",
      "Accuracy: 0.951069918344\n",
      "Sensitivity: 0.635494880546\n",
      "Running time: 58.93357801437378\n",
      "\n",
      "Eta = 550:\n",
      "======================\n",
      "Accuracy: 0.951069918344\n",
      "Sensitivity: 0.635494880546\n",
      "Running time: 59.23855900764465\n",
      "\n",
      "Eta = 600:\n",
      "======================\n",
      "Accuracy: 0.951069918344\n",
      "Sensitivity: 0.635494880546\n",
      "Running time: 59.67914295196533\n",
      "\n",
      "Eta = 650:\n",
      "======================\n",
      "Accuracy: 0.952045056868\n",
      "Sensitivity: 0.633788395904\n",
      "Running time: 59.30631899833679\n",
      "\n",
      "Eta = 700:\n",
      "======================\n",
      "Accuracy: 0.939896835812\n",
      "Sensitivity: 0.635153583618\n",
      "Running time: 57.410037994384766\n",
      "\n",
      "Eta = 750:\n",
      "======================\n",
      "Accuracy: 0.950085666375\n",
      "Sensitivity: 0.623549488055\n",
      "Running time: 57.94595503807068\n",
      "\n",
      "Eta = 800:\n",
      "======================\n",
      "Accuracy: 0.951461796442\n",
      "Sensitivity: 0.622866894198\n",
      "Running time: 57.64978504180908\n",
      "\n",
      "Eta = 850:\n",
      "======================\n",
      "Accuracy: 0.953503207932\n",
      "Sensitivity: 0.622184300341\n",
      "Running time: 57.66558384895325\n",
      "\n",
      "Eta = 900:\n",
      "======================\n",
      "Accuracy: 0.956665573053\n",
      "Sensitivity: 0.619453924915\n",
      "Running time: 57.11012101173401\n",
      "\n",
      "Eta = 950:\n",
      "======================\n",
      "Accuracy: 0.957175925926\n",
      "Sensitivity: 0.619112627986\n",
      "Running time: 57.43530797958374\n",
      "\n",
      "Eta = 1000:\n",
      "======================\n",
      "Accuracy: 0.957175925926\n",
      "Sensitivity: 0.619112627986\n",
      "Running time: 57.990208864212036\n",
      "\n"
     ]
    }
   ],
   "source": [
    "sens = []\n",
    "accu = []\n",
    "for eta in [100,150, 200, 250, 300, 350, 400, 450, 500, 550, 600, 650, 700, 750, 800, 850, 900, 950, 1000]:\n",
    "    param = {\n",
    "    'max_depth': 20, \n",
    "    'eta': eta, \n",
    "    'silent': 1, \n",
    "    'objective': 'binary:logistic',\n",
    "    'nthread': 4,\n",
    "    'eval_metric': 'auc'\n",
    "    }\n",
    "    \n",
    "    start_time = time.time()\n",
    "    \n",
    "    #num_round = rounds\n",
    "    bst = xgb.train(param, dtrain, num_boost_round=10)\n",
    "    \n",
    "    pred_xgb = bst.predict(dtest)\n",
    "    \n",
    "    #pred_xgb[pred_xgb > 0.5] = 1\n",
    "    #pred_xgb[pred_xgb < 0.5] = 0\n",
    "\n",
    "    conf_mat = confusion_matrix(y_val, pred_xgb.astype(int))\n",
    "    acc = (conf_mat[0][0] + conf_mat[1][1])/len(y_val)\n",
    "    \n",
    "    print('Eta = %i:'%eta)\n",
    "    print('======================')\n",
    "    print('Accuracy:', acc)\n",
    "\n",
    "    sen = conf_mat[0][0]/(conf_mat[0][0] + conf_mat[0][1])\n",
    "    print('Sensitivity:', sen)\n",
    "    print('Running time:', (time.time() - start_time))\n",
    "    print('')\n",
    "    \n",
    "    sens.append(sen)\n",
    "    accu.append(acc)"
   ]
  },
  {
   "cell_type": "code",
   "execution_count": 21,
   "metadata": {
    "collapsed": false
   },
   "outputs": [
    {
     "data": {
      "image/png": "[encoded data removed]",
      "text/plain": [
       "<matplotlib.figure.Figure at 0x1104a8400>"
      ]
     },
     "metadata": {},
     "output_type": "display_data"
    }
   ],
   "source": [
    "eta = [100,150, 200, 250, 300, 350, 400, 450, 500, 550, 600, 650, 700, 750, 800, 850, 900, 950, 1000]\n",
    "\n",
    "plt.plot(eta,sens)\n",
    "plt.plot(eta,accu)\n",
    "plt.show()"
   ]
  },
  {
   "cell_type": "code",
   "execution_count": 57,
   "metadata": {
    "collapsed": true
   },
   "outputs": [],
   "source": [
    "param = {\n",
    "    'max_depth': 20, \n",
    "    'eta': 500, \n",
    "    'silent': 1, \n",
    "    'objective': 'binary:logistic',\n",
    "    'nthread': 4,\n",
    "    'eval_metric': 'auc'\n",
    "}\n",
    "#param['nthread'] = 4\n",
    "#param['eval_metric'] = ['auc', 'ams@0']"
   ]
  },
  {
   "cell_type": "code",
   "execution_count": 58,
   "metadata": {
    "collapsed": false
   },
   "outputs": [
    {
     "name": "stdout",
     "output_type": "stream",
     "text": [
      "--- 71.49503684043884 seconds ---\n"
     ]
    }
   ],
   "source": [
    "start_time = time.time()\n",
    "\n",
    "num_round = 10\n",
    "bst = xgb.train(param, dtrain, num_boost_round=num_round)\n",
    "    \n",
    "print(\"--- %s seconds ---\" % (time.time() - start_time))"
   ]
  },
  {
   "cell_type": "code",
   "execution_count": 59,
   "metadata": {
    "collapsed": false
   },
   "outputs": [
    {
     "data": {
      "text/plain": [
       "array([ 1.,  1.,  0., ...,  1.,  1.,  1.], dtype=float32)"
      ]
     },
     "execution_count": 59,
     "metadata": {},
     "output_type": "execute_result"
    }
   ],
   "source": [
    "pred_xgb = bst.predict(dtest, ntree_limit=bst.best_ntree_limit)"
   ]
  },
  {
   "cell_type": "code",
   "execution_count": 60,
   "metadata": {
    "collapsed": false
   },
   "outputs": [
    {
     "name": "stdout",
     "output_type": "stream",
     "text": [
      "Accuracy: 0.951069918344\n",
      "Sensitivity: 0.635494880546\n"
     ]
    }
   ],
   "source": [
    "conf_mat = confusion_matrix(y_val, pred_xgb.astype(int))\n",
    "acc = (conf_mat[0][0] + conf_mat[1][1])/len(y_val)\n",
    "print('Accuracy:', acc)\n",
    "\n",
    "sen = conf_mat[0][0]/(conf_mat[0][0] + conf_mat[0][1])\n",
    "print('Sensitivity:', sen)"
   ]
  },
  {
   "cell_type": "markdown",
   "metadata": {},
   "source": [
    "** CV **"
   ]
  },
  {
   "cell_type": "code",
   "execution_count": 44,
   "metadata": {
    "collapsed": true
   },
   "outputs": [],
   "source": [
    "xgb_cv = xgb.cv(param, dtrain=dtrain, nfold=10, as_pandas=1, seed=rs)"
   ]
  },
  {
   "cell_type": "code",
   "execution_count": 62,
   "metadata": {
    "collapsed": false
   },
   "outputs": [
    {
     "data": {
      "text/html": [
       "<div>\n",
       "<table border=\"1\" class=\"dataframe\">\n",
       "  <thead>\n",
       "    <tr style=\"text-align: right;\">\n",
       "      <th></th>\n",
       "      <th>test-auc-mean</th>\n",
       "      <th>test-auc-std</th>\n",
       "      <th>train-auc-mean</th>\n",
       "      <th>train-auc-std</th>\n",
       "    </tr>\n",
       "  </thead>\n",
       "  <tbody>\n",
       "    <tr>\n",
       "      <th>0</th>\n",
       "      <td>0.720290</td>\n",
       "      <td>0.008252</td>\n",
       "      <td>0.804476</td>\n",
       "      <td>0.002171</td>\n",
       "    </tr>\n",
       "    <tr>\n",
       "      <th>1</th>\n",
       "      <td>0.331308</td>\n",
       "      <td>0.009372</td>\n",
       "      <td>0.353701</td>\n",
       "      <td>0.010067</td>\n",
       "    </tr>\n",
       "    <tr>\n",
       "      <th>2</th>\n",
       "      <td>0.657591</td>\n",
       "      <td>0.012719</td>\n",
       "      <td>0.658986</td>\n",
       "      <td>0.010869</td>\n",
       "    </tr>\n",
       "    <tr>\n",
       "      <th>3</th>\n",
       "      <td>0.670683</td>\n",
       "      <td>0.041828</td>\n",
       "      <td>0.672633</td>\n",
       "      <td>0.043166</td>\n",
       "    </tr>\n",
       "    <tr>\n",
       "      <th>4</th>\n",
       "      <td>0.670683</td>\n",
       "      <td>0.041828</td>\n",
       "      <td>0.672633</td>\n",
       "      <td>0.043166</td>\n",
       "    </tr>\n",
       "    <tr>\n",
       "      <th>5</th>\n",
       "      <td>0.670683</td>\n",
       "      <td>0.041828</td>\n",
       "      <td>0.672633</td>\n",
       "      <td>0.043166</td>\n",
       "    </tr>\n",
       "    <tr>\n",
       "      <th>6</th>\n",
       "      <td>0.670683</td>\n",
       "      <td>0.041828</td>\n",
       "      <td>0.672633</td>\n",
       "      <td>0.043166</td>\n",
       "    </tr>\n",
       "    <tr>\n",
       "      <th>7</th>\n",
       "      <td>0.670683</td>\n",
       "      <td>0.041828</td>\n",
       "      <td>0.672633</td>\n",
       "      <td>0.043166</td>\n",
       "    </tr>\n",
       "    <tr>\n",
       "      <th>8</th>\n",
       "      <td>0.670683</td>\n",
       "      <td>0.041828</td>\n",
       "      <td>0.672633</td>\n",
       "      <td>0.043166</td>\n",
       "    </tr>\n",
       "    <tr>\n",
       "      <th>9</th>\n",
       "      <td>0.670683</td>\n",
       "      <td>0.041828</td>\n",
       "      <td>0.672633</td>\n",
       "      <td>0.043166</td>\n",
       "    </tr>\n",
       "  </tbody>\n",
       "</table>\n",
       "</div>"
      ],
      "text/plain": [
       "   test-auc-mean  test-auc-std  train-auc-mean  train-auc-std\n",
       "0       0.720290      0.008252        0.804476       0.002171\n",
       "1       0.331308      0.009372        0.353701       0.010067\n",
       "2       0.657591      0.012719        0.658986       0.010869\n",
       "3       0.670683      0.041828        0.672633       0.043166\n",
       "4       0.670683      0.041828        0.672633       0.043166\n",
       "5       0.670683      0.041828        0.672633       0.043166\n",
       "6       0.670683      0.041828        0.672633       0.043166\n",
       "7       0.670683      0.041828        0.672633       0.043166\n",
       "8       0.670683      0.041828        0.672633       0.043166\n",
       "9       0.670683      0.041828        0.672633       0.043166"
      ]
     },
     "execution_count": 62,
     "metadata": {},
     "output_type": "execute_result"
    }
   ],
   "source": [
    "xgb_cv"
   ]
  },
  {
   "cell_type": "markdown",
   "metadata": {},
   "source": [
    "** GBT**"
   ]
  },
  {
   "cell_type": "code",
   "execution_count": 37,
   "metadata": {
    "collapsed": false
   },
   "outputs": [
    {
     "data": {
      "text/plain": [
       "GradientBoostingClassifier(criterion='friedman_mse', init=None,\n",
       "              learning_rate=0.1, loss='deviance', max_depth=3,\n",
       "              max_features=None, max_leaf_nodes=None,\n",
       "              min_impurity_split=1e-07, min_samples_leaf=1,\n",
       "              min_samples_split=2, min_weight_fraction_leaf=0.0,\n",
       "              n_estimators=100, presort='auto', random_state=None,\n",
       "              subsample=1.0, verbose=0, warm_start=False)"
      ]
     },
     "execution_count": 37,
     "metadata": {},
     "output_type": "execute_result"
    }
   ],
   "source": [
    "from sklearn.ensemble import GradientBoostingClassifier\n",
    "'''\n",
    "param  = {\n",
    "    'objective': 'binary',\n",
    "    'metric': 'binary_logloss',\n",
    "    'boosting': 'gbdt',\n",
    "    'learning_rate': 0.05,\n",
    "    'feature_fraction': 0.8,\n",
    "    'feature_fraction_seed': rs,\n",
    "    'bagging_fraction': 0.9,\n",
    "    'bagging_freq': 1,\n",
    "    'bagging_seed': rs,\n",
    "    'num_boost_round': rounds\n",
    "}\n",
    "'''\n",
    "start_time = time.time()\n",
    "\n",
    "clf = GradientBoostingClassifier()\n",
    "clf.fit(X_train, y_train)\n",
    "\n",
    "print(\"--- %s seconds ---\" % (time.time() - start_time))"
   ]
  },
  {
   "cell_type": "code",
   "execution_count": 39,
   "metadata": {
    "collapsed": false
   },
   "outputs": [],
   "source": [
    "pred = clf.predict(X_test)"
   ]
  },
  {
   "cell_type": "code",
   "execution_count": 41,
   "metadata": {
    "collapsed": false
   },
   "outputs": [
    {
     "name": "stdout",
     "output_type": "stream",
     "text": [
      "Accuracy: 0.97923945124\n",
      "Sensitivity: 0.366685616828\n"
     ]
    }
   ],
   "source": [
    "conf_mat = confusion_matrix(y_test, pred)\n",
    "acc = (conf_mat[0][0] + conf_mat[1][1])/len(y_test)\n",
    "print('Accuracy:', acc)\n",
    "\n",
    "sen = conf_mat[0][0]/(conf_mat[0][0] + conf_mat[0][1])\n",
    "print('Sensitivity:', sen)"
   ]
  },
  {
   "cell_type": "code",
   "execution_count": null,
   "metadata": {
    "collapsed": true
   },
   "outputs": [],
   "source": []
  },
  {
   "cell_type": "markdown",
   "metadata": {},
   "source": [
    "** Logistic Regression **"
   ]
  },
  {
   "cell_type": "code",
   "execution_count": 50,
   "metadata": {
    "collapsed": true
   },
   "outputs": [],
   "source": [
    "label = data.Is_Timely_response\n",
    "X = normalize(data.drop('Is_Timely_response',1))"
   ]
  },
  {
   "cell_type": "code",
   "execution_count": 52,
   "metadata": {
    "collapsed": true
   },
   "outputs": [],
   "source": [
    "X = normalize(X)"
   ]
  },
  {
   "cell_type": "code",
   "execution_count": 54,
   "metadata": {
    "collapsed": false
   },
   "outputs": [
    {
     "data": {
      "text/plain": [
       "(30, 277)"
      ]
     },
     "execution_count": 54,
     "metadata": {},
     "output_type": "execute_result"
    }
   ],
   "source": [
    "pca = PCA(n_components=30)\n",
    "pca.fit(X)\n",
    "pca.components_.shape"
   ]
  },
  {
   "cell_type": "code",
   "execution_count": 55,
   "metadata": {
    "collapsed": false
   },
   "outputs": [
    {
     "data": {
      "text/plain": [
       "(860606, 30)"
      ]
     },
     "execution_count": 55,
     "metadata": {},
     "output_type": "execute_result"
    }
   ],
   "source": [
    "X_pca = pca.transform(X)\n",
    "X_pca.shape"
   ]
  },
  {
   "cell_type": "code",
   "execution_count": 56,
   "metadata": {
    "collapsed": false
   },
   "outputs": [],
   "source": [
    "cols = []\n",
    "for i in range(30):\n",
    "    cols.append('PCA_%i'%(i+1))\n",
    "\n",
    "X_pca = pd.DataFrame(X_pca)\n",
    "X_pca.columns = cols"
   ]
  },
  {
   "cell_type": "code",
   "execution_count": 57,
   "metadata": {
    "collapsed": false
   },
   "outputs": [
    {
     "name": "stdout",
     "output_type": "stream",
     "text": [
      "Training set shape: (731515, 31)\n",
      "Test set shape: (129091, 31)\n"
     ]
    }
   ],
   "source": [
    "X_pca['Is_Timely_response'] = label\n",
    "data_pca = X_pca\n",
    "\n",
    "train_len = int(data_pca.shape[0] * 0.85)\n",
    "\n",
    "train = data_pca.iloc[:train_len,:]\n",
    "test = data_pca.iloc[train_len: ,:]\n",
    "\n",
    "print('Training set shape:', train.shape)\n",
    "print('Test set shape:', test.shape)"
   ]
  },
  {
   "cell_type": "code",
   "execution_count": 60,
   "metadata": {
    "collapsed": false
   },
   "outputs": [
    {
     "data": {
      "text/plain": [
       "(860606,)"
      ]
     },
     "execution_count": 60,
     "metadata": {},
     "output_type": "execute_result"
    }
   ],
   "source": [
    "label.shape"
   ]
  },
  {
   "cell_type": "code",
   "execution_count": 61,
   "metadata": {
    "collapsed": false
   },
   "outputs": [
    {
     "name": "stdout",
     "output_type": "stream",
     "text": [
      "X_train shape: (621787, 30)\n",
      "X_val shape: (109728, 30)\n",
      "y_train shape: (621787,)\n",
      "y_val shape: (109728,)\n"
     ]
    }
   ],
   "source": [
    "label = train.Is_Timely_response\n",
    "del train['Is_Timely_response']\n",
    "\n",
    "X_train, X_val, y_train, y_val = train_test_split(\n",
    "    train, label, \n",
    "    test_size = 0.15, \n",
    "    random_state = rs)\n",
    "\n",
    "print('X_train shape:', X_train.shape)\n",
    "print('X_val shape:', X_val.shape)\n",
    "print('y_train shape:', y_train.shape)\n",
    "print('y_val shape:', y_val.shape)"
   ]
  },
  {
   "cell_type": "code",
   "execution_count": 82,
   "metadata": {
    "collapsed": false
   },
   "outputs": [
    {
     "data": {
      "text/plain": [
       "LogisticRegression(C=1.0, class_weight=None, dual=False, fit_intercept=True,\n",
       "          intercept_scaling=1, max_iter=100, multi_class='ovr', n_jobs=1,\n",
       "          penalty='l2', random_state=20171101, solver='liblinear',\n",
       "          tol=0.0001, verbose=0, warm_start=False)"
      ]
     },
     "execution_count": 82,
     "metadata": {},
     "output_type": "execute_result"
    }
   ],
   "source": [
    "lr = LogisticRegression(random_state=rs)\n",
    "lr.fit(X_train, y_train)"
   ]
  },
  {
   "cell_type": "code",
   "execution_count": 83,
   "metadata": {
    "collapsed": false
   },
   "outputs": [],
   "source": [
    "pred = lr.predict(X_val)"
   ]
  },
  {
   "cell_type": "code",
   "execution_count": 84,
   "metadata": {
    "collapsed": false
   },
   "outputs": [
    {
     "name": "stdout",
     "output_type": "stream",
     "text": [
      "Accuracy: 0.9732702683\n",
      "Sensitivity: 0.0\n"
     ]
    }
   ],
   "source": [
    "conf_mat = confusion_matrix(y_val, pred)\n",
    "acc = (conf_mat[0][0] + conf_mat[1][1])/len(y_val)\n",
    "print('Accuracy:', acc)\n",
    "\n",
    "sen = conf_mat[0][0]/(conf_mat[0][0] + conf_mat[0][1])\n",
    "print('Sensitivity:', sen)"
   ]
  },
  {
   "cell_type": "code",
   "execution_count": 85,
   "metadata": {
    "collapsed": false
   },
   "outputs": [
    {
     "data": {
      "text/plain": [
       "array([[     0,   2930],\n",
       "       [     3, 106795]])"
      ]
     },
     "execution_count": 85,
     "metadata": {},
     "output_type": "execute_result"
    }
   ],
   "source": [
    "conf_mat"
   ]
  },
  {
   "cell_type": "code",
   "execution_count": 66,
   "metadata": {
    "collapsed": false
   },
   "outputs": [
    {
     "data": {
      "image/png": "[encoded data removed]",
      "text/plain": [
       "<matplotlib.figure.Figure at 0x111c434e0>"
      ]
     },
     "metadata": {},
     "output_type": "display_data"
    }
   ],
   "source": [
    "fp, tp, thr = roc_curve(y_val, pred)\n",
    "score = roc_auc_score(y_val,pred)\n",
    "\n",
    "plt.plot(fp, tp, label='Area under ROC: %0.4f'%score)\n",
    "plt.xlabel('False Positive')\n",
    "plt.ylabel('True Positive')\n",
    "plt.title('ROC Curve')\n",
    "plt.legend(loc='lower right')\n",
    "\n",
    "plt.plot([0, 1], [0, 1], linestyle='--')\n",
    "\n",
    "plt.show()"
   ]
  },
  {
   "cell_type": "code",
   "execution_count": null,
   "metadata": {
    "collapsed": true
   },
   "outputs": [],
   "source": []
  }
 ],
 "metadata": {
  "anaconda-cloud": {},
  "kernelspec": {
   "display_name": "Python [conda root]",
   "language": "python",
   "name": "conda-root-py"
  },
  "language_info": {
   "codemirror_mode": {
    "name": "ipython",
    "version": 3
   },
   "file_extension": ".py",
   "mimetype": "text/x-python",
   "name": "python",
   "nbconvert_exporter": "python",
   "pygments_lexer": "ipython3",
   "version": "3.5.2"
  }
 },
 "nbformat": 4,
 "nbformat_minor": 1
}
